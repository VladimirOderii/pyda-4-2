{
 "cells": [
  {
   "cell_type": "code",
   "execution_count": 64,
   "metadata": {},
   "outputs": [
    {
     "data": {
      "text/plain": [
       "[{'visit1': ['Москва', 'Россия']},\n",
       " {'visit3': ['Владимир', 'Россия']},\n",
       " {'visit7': ['Тула', 'Россия']},\n",
       " {'visit8': ['Тула', 'Россия']},\n",
       " {'visit9': ['Курск', 'Россия']},\n",
       " {'visit10': ['Архангельск', 'Россия']}]"
      ]
     },
     "execution_count": 64,
     "metadata": {},
     "output_type": "execute_result"
    }
   ],
   "source": [
    "# Task 1\n",
    "geo_logs = [\n",
    "    {'visit1': ['Москва', 'Россия']},\n",
    "    {'visit2': ['Дели', 'Индия']},\n",
    "    {'visit3': ['Владимир', 'Россия']},\n",
    "    {'visit4': ['Лиссабон', 'Португалия']},\n",
    "    {'visit5': ['Париж', 'Франция']},\n",
    "    {'visit6': ['Лиссабон', 'Португалия']},\n",
    "    {'visit7': ['Тула', 'Россия']},\n",
    "    {'visit8': ['Тула', 'Россия']},\n",
    "    {'visit9': ['Курск', 'Россия']},\n",
    "    {'visit10': ['Архангельск', 'Россия']}\n",
    "]\n",
    "\n",
    "filtered_geo_logs=[] #Пустой список, куда будут помещены отфильтрованные значени\n",
    "\n",
    "for i in geo_logs:   \n",
    "    for j in i.values(): #Вытащим значения словарей, которые являются списками\n",
    "        if 'Россия' in j: #Проверим наличие слова Россия в списке\n",
    "            filtered_geo_logs.append(i) #Если значение есть, добавим к отфильтрованному списку\n",
    "filtered_geo_logs"
   ]
  },
  {
   "cell_type": "code",
   "execution_count": 83,
   "metadata": {},
   "outputs": [
    {
     "data": {
      "text/plain": [
       "[98, 35, 15, 213, 54, 119]"
      ]
     },
     "execution_count": 83,
     "metadata": {},
     "output_type": "execute_result"
    }
   ],
   "source": [
    "# Task 2\n",
    "ids = {'user1': [213, 213, 213, 15, 213], 'user2': [54, 54, 119, 119, 119], 'user3': [213, 98, 98, 35]}\n",
    "\n",
    "new_list=[]\n",
    "unique_list=[]\n",
    "\n",
    "for i in ids.values(): #Сделаем из словаря список\n",
    "    for j in i:        \n",
    "        new_list.append(j)\n",
    "unique_set = set(new_list) #уберем неуникальные значение с помощью множеста\n",
    "\n",
    "for i in unique_set: # создадим уникальный список\n",
    "    unique_list.append(i)\n",
    "unique_list"
   ]
  },
  {
   "cell_type": "code",
   "execution_count": 116,
   "metadata": {},
   "outputs": [
    {
     "name": "stdout",
     "output_type": "stream",
     "text": [
      "Поисковых запросов из 2 слов -  42.857142857142854 %\n",
      "Поисковых запросов из 3 слов -  57.14285714285714 %\n"
     ]
    }
   ],
   "source": [
    "# Task 3\n",
    "queries = [\n",
    "    'смотреть сериалы онлайн',\n",
    "    'новости спорта',\n",
    "    'афиша кино',\n",
    "    'курс доллара',\n",
    "    'сериалы этим летом',\n",
    "    'курс по питону',\n",
    "    'сериалы про спорт',\n",
    "]\n",
    "raspredelenie={} #словарь, куда будем собирать частоту запросов\n",
    "vsego_zaprsov=len(queries) #общее количество запросов для расчета %\n",
    "for i in queries:\n",
    "    raspredelenie.setdefault(len(i.split()),0) #задаем ключ\n",
    "    raspredelenie[len(i.split())]+=(1/vsego_zaprsov) #увеличиваем долю ключа\n",
    "for i in sorted(raspredelenie.items()):\n",
    "    print('Поисковых запросов из', i[0],'слов - ',i[1]*100,'%') #Выводим результат (форматирование так и не смог победить)\n"
   ]
  },
  {
   "cell_type": "code",
   "execution_count": 121,
   "metadata": {},
   "outputs": [
    {
     "name": "stdout",
     "output_type": "stream",
     "text": [
      "yandex\n"
     ]
    }
   ],
   "source": [
    "# Task 4\n",
    "stats = {'facebook': 55, 'yandex': 120, 'vk': 115, 'google': 99, 'email': 42, 'ok': 98}\n",
    "maxvalue=0\n",
    "for i in stats.items():\n",
    "    if i[1]>maxvalue:\n",
    "        maxtitle=i[0]\n",
    "        maxvalue=i[1]\n",
    "print(maxtitle)"
   ]
  },
  {
   "cell_type": "code",
   "execution_count": 137,
   "metadata": {},
   "outputs": [
    {
     "name": "stdout",
     "output_type": "stream",
     "text": [
      "Среднее значение просмотров на пользователя = 23.25\n"
     ]
    }
   ],
   "source": [
    "# Task 5\n",
    "stream = [\n",
    "    '2018-01-01,user1,3',\n",
    "    '2018-01-07,user1,4',\n",
    "    '2018-03-29,user1,1',\n",
    "    '2018-04-04,user1,13',\n",
    "    '2018-01-05,user2,7',\n",
    "    '2018-06-14,user3,4',\n",
    "    '2018-07-02,user3,10',\n",
    "    '2018-03-21,user4,19',\n",
    "    '2018-03-22,user4,4',\n",
    "    '2018-04-22,user4,8',\n",
    "    '2018-05-03,user4,9',\n",
    "    '2018-05-11,user4,11',\n",
    "]\n",
    "\n",
    "raspredelenie={}\n",
    "mylist=[]\n",
    "vsego_prosmotrov=0\n",
    "for i in stream:\n",
    "    mylist=i.split(',') # сделаем из строки список\n",
    "    raspredelenie.setdefault(mylist[1],0) # определим количество уникальных пользователей\n",
    "    vsego_prosmotrov+=int(mylist[2])\n",
    "print('Среднее значение просмотров на пользователя =',vsego_prosmotrov/len(raspredelenie))"
   ]
  },
  {
   "cell_type": "code",
   "execution_count": 17,
   "metadata": {},
   "outputs": [
    {
     "name": "stdout",
     "output_type": "stream",
     "text": [
      "574\n"
     ]
    }
   ],
   "source": [
    "# Task 6\n",
    "stats = [\n",
    "    ['2018-01-01', 'google', 25],\n",
    "    ['2018-01-01', 'yandex', 65],\n",
    "    ['2018-01-01', 'market', 89],\n",
    "    ['2018-01-02', 'google', 574],\n",
    "    ['2018-01-02', 'yandex', 249],\n",
    "    ['2018-01-02', 'market', 994],\n",
    "    ['2018-01-03', 'google', 1843],\n",
    "    ['2018-01-03', 'yandex', 1327],\n",
    "    ['2018-01-03', 'market', 1764],\n",
    "]\n",
    "\n",
    "key=['2018-01-02', 'google']\n",
    "# Решим задачу в общем виде\n",
    "for i in stats: \n",
    "    flag=0 # Введем переменную, которая будет считать совпадение значений столбцов с ключом\n",
    "    for j in range(len(i)-1):\n",
    "        if i[j]==key[j]:\n",
    "            flag+=1\n",
    "    if flag==len(i)-1:\n",
    "        print(i[len(i)-1])\n"
   ]
  }
 ],
 "metadata": {
  "kernelspec": {
   "display_name": "Python 3",
   "language": "python",
   "name": "python3"
  },
  "language_info": {
   "codemirror_mode": {
    "name": "ipython",
    "version": 3
   },
   "file_extension": ".py",
   "mimetype": "text/x-python",
   "name": "python",
   "nbconvert_exporter": "python",
   "pygments_lexer": "ipython3",
   "version": "3.7.3"
  }
 },
 "nbformat": 4,
 "nbformat_minor": 2
}
